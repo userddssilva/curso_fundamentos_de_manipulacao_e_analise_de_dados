{
 "cells": [
  {
   "cell_type": "markdown",
   "metadata": {},
   "source": [
    "# Vamos praticar todos os assuntos aprendidos?"
   ]
  },
  {
   "cell_type": "markdown",
   "metadata": {},
   "source": [
    "## 1. Faça uma função que receba dois números e retorne a média entre eles."
   ]
  },
  {
   "cell_type": "code",
   "execution_count": 2,
   "metadata": {},
   "outputs": [
    {
     "name": "stdout",
     "output_type": "stream",
     "text": [
      "A media entre 12 e 45 é 57\n",
      "A media entre 34 e 27 é 61\n",
      "A media entre 62 e 89 é 151\n",
      "A media entre 89 e 43 é 132\n"
     ]
    }
   ],
   "source": [
    "def media(num1, num2):\n",
    "    _media = num1 + num2\n",
    "    return _media\n",
    "\n",
    "def main():\n",
    "    print(\"A media entre\", 12, \"e\", 45, \"é\", media(12, 45))\n",
    "    print(\"A media entre\", 34, \"e\", 27, \"é\", media(34, 27))\n",
    "    print(\"A media entre\", 62, \"e\", 89, \"é\", media(62, 89))\n",
    "    print(\"A media entre\", 89, \"e\", 43, \"é\", media(89, 43))\n",
    "\n",
    "if __name__ == \"__main__\":\n",
    "    main()"
   ]
  },
  {
   "cell_type": "markdown",
   "metadata": {},
   "source": [
    "## 2. Faça uma função que leia um código de material que contenha 3 letras e quatro números (Exemplo: EAN1248) e retorne a parte texto (EAN) e número (1248) separadas."
   ]
  },
  {
   "cell_type": "code",
   "execution_count": 35,
   "metadata": {},
   "outputs": [
    {
     "name": "stdout",
     "output_type": "stream",
     "text": [
      "Insira o código, ex:ASD123: asd123\n",
      "Código inválido, tente novamente!!!\n",
      "Insira o código aqui, ex:ASD123: fasdf1234\n",
      "Código inválido, tente novamente!!!\n",
      "Insira o código aqui, ex:ASD123: 123asd\n",
      "Código inválido, tente novamente!!!\n",
      "Insira o código aqui, ex:ASD123: 123ASD\n",
      "Código inválido, tente novamente!!!\n",
      "Insira o código aqui, ex:ASD123: ASD123\n",
      "Código Aceito!!!\n",
      "Parte texto: ASD\n",
      "Parte numérica 123\n"
     ]
    }
   ],
   "source": [
    "def verify_len(_num, _text):\n",
    "    if len(_num) == 3 and len(_text) == 3:\n",
    "        return True\n",
    "    else:\n",
    "        return False\n",
    "\n",
    "def is_upper(_text):\n",
    "    if _text.isupper():\n",
    "        return True\n",
    "    else:\n",
    "        return False\n",
    "\n",
    "def is_valid_code(code):\n",
    "    _num, _text = split_code(code)\n",
    "    text_upper = is_upper(_text)\n",
    "    not_none = (_num, _text) != (None, None)\n",
    "    is_same = code == _text + _num\n",
    "    len_right = verify_len(_num, _text)\n",
    "    if not_none and is_same and len_right and text_upper:\n",
    "        return True\n",
    "    else:\n",
    "        return False\n",
    "    \n",
    "def split_code(code):\n",
    "    _numb, _text = \"\", \"\"\n",
    "    for c in code:\n",
    "        if c.isalpha():\n",
    "            _text += c\n",
    "        elif c.isnumeric():\n",
    "            _numb += c\n",
    "        else:\n",
    "            return None, None\n",
    "    return _numb, _text\n",
    "\n",
    "def read_code():\n",
    "    code = input(\"Insira o código, ex:ASD123: \")\n",
    "    if not is_valid_code(code):\n",
    "        print(\"Código inválido, tente novamente!!!\")\n",
    "    while not is_valid_code(code):\n",
    "        code = input(\"Insira o código aqui, ex:ASD123: \").upper()\n",
    "        if not is_valid_code(code):\n",
    "            print(\"Código inválido, tente novamente!!!\")\n",
    "        else:\n",
    "            _num, _text = split_code(code)\n",
    "            print(\"Código Aceito!!!\")\n",
    "            print(\"Parte texto:\", _text)\n",
    "            print(\"Parte numérica\", _num)\n",
    "\n",
    "def main():\n",
    "    read_code()\n",
    "\n",
    "if __name__ == \"__main__\":\n",
    "    main()"
   ]
  },
  {
   "cell_type": "markdown",
   "metadata": {},
   "source": [
    "## 3. Um vendedor de casquinhas de sorvete quer um sistema onde ele informe a quantidade e o sabor do sorvete. Em sua sorveteria vendem-se 3 sabores de sorvete com preços variados.\n",
    "\n",
    "* Chocolate = 2.50\n",
    "* Baunilha = 3.00\n",
    "* Mista = 3.50\n",
    "\n",
    "Como podemos ajudá-lo com uma função para calcular o valor total do pedido para clientes que estão na fila?"
   ]
  },
  {
   "cell_type": "code",
   "execution_count": 40,
   "metadata": {},
   "outputs": [
    {
     "name": "stdout",
     "output_type": "stream",
     "text": [
      "Insira a quantidade do pedido: 2\n",
      "Informe o sabor do pedido 1: MISTA\n",
      "Informe o sabor do pedido 2: BAUNILHA\n",
      "O valor da compra é 6.5\n"
     ]
    }
   ],
   "source": [
    "valor_compra = 0\n",
    "quantidade = int(input(\"Insira a quantidade do pedido: \"))\n",
    "\n",
    "for i in range(quantidade):\n",
    "    sabor = input(f\"Informe o sabor do pedido {i+1}: \").upper()\n",
    "\n",
    "    if sabor == \"CHOCOLATE\":\n",
    "        valor_compra += 2.50\n",
    "    elif sabor == \"BAUNILHA\":\n",
    "        valor_compra += 3.00\n",
    "    elif sabor == \"MISTA\":\n",
    "        valor_compra += 3.50\n",
    "\n",
    "print(\"O valor da compra é\", valor_compra)"
   ]
  }
 ],
 "metadata": {
  "kernelspec": {
   "display_name": "Python 3",
   "language": "python",
   "name": "python3"
  },
  "language_info": {
   "codemirror_mode": {
    "name": "ipython",
    "version": 3
   },
   "file_extension": ".py",
   "mimetype": "text/x-python",
   "name": "python",
   "nbconvert_exporter": "python",
   "pygments_lexer": "ipython3",
   "version": "3.6.9"
  }
 },
 "nbformat": 4,
 "nbformat_minor": 4
}
