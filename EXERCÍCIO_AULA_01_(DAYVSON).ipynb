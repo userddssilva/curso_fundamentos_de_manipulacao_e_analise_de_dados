{
 "cells": [
  {
   "cell_type": "markdown",
   "metadata": {},
   "source": [
    "## Vamos praticar todos os assuntos aprendidos? Fonte dos exercícios: Python Progressivo\n",
    "\n",
    "1.Crie um programa que peça dois números e imprima o maior deles.\n",
    "\n",
    "2.Crie um programa que verifique se uma letra digitada é \"F\" ou \"M\". Conforme a letra imprimir:\n",
    "\n",
    "* F - Feminino;\n",
    "* M - Masculino;\n",
    "* Sexo Inválido.\n",
    "\n",
    "3.Crie um programa que pede duas notas de um aluno. Em seguida ele deve calcular a média do aluno e dar o seguinte resultado:\n",
    "\n",
    "* A mensagem \"Aprovado\", se a média alcançada for maior ou igual a sete;\n",
    "* A mensagem \"Reprovado\", se a média for menor do que sete;\n",
    "* A mensagem \"Aprovado com Distinção\", se a média for igual a dez."
   ]
  },
  {
   "cell_type": "code",
   "execution_count": 2,
   "metadata": {},
   "outputs": [
    {
     "name": "stdout",
     "output_type": "stream",
     "text": [
      "INSIRA UM NUMERO: 2\n",
      "INSIRA OUTRO NUMERO: 2\n",
      "OS NUMEROS INSERIDOS FORAM: 2 E 2\n",
      "OS NUMEROS SAO IGUAIS\n"
     ]
    }
   ],
   "source": [
    "NUM1 = input(\"INSIRA UM NUMERO: \")\n",
    "NUM2 = input(\"INSIRA OUTRO NUMERO: \")\n",
    "\n",
    "print(\"OS NUMEROS INSERIDOS FORAM:\", NUM1, \"E\", NUM2)\n",
    " \n",
    "if NUM1 > NUM2:\n",
    "    print(\"O MAIOR DOS DOIS EH:\", NUM1)\n",
    "elif NUM2 > NUM1:\n",
    "    print(\"O MAIOR DOS DOIS EH:\", NUM2)\n",
    "else:\n",
    "    print(\"OS NUMEROS SAO IGUAIS\")"
   ]
  },
  {
   "cell_type": "code",
   "execution_count": 6,
   "metadata": {},
   "outputs": [
    {
     "name": "stdout",
     "output_type": "stream",
     "text": [
      "INSIRA UMA LETRA: F\n",
      "F - Feminino\n"
     ]
    }
   ],
   "source": [
    "LETRA = input(\"INSIRA UMA LETRA: \")\n",
    "\n",
    "if LETRA == \"F\":\n",
    "    print(\"F - Feminino\")\n",
    "elif LETRA == \"M\":\n",
    "    print(\"M - Masculino\")\n",
    "else:\n",
    "    print(\"Sexo Inválido\")"
   ]
  },
  {
   "cell_type": "code",
   "execution_count": 10,
   "metadata": {},
   "outputs": [
    {
     "name": "stdout",
     "output_type": "stream",
     "text": [
      "NOTA 1: 4\n",
      "NOTA 2: 5\n",
      "REPROVADO\n"
     ]
    }
   ],
   "source": [
    "NOTA1 = float(input(\"NOTA 1: \"))\n",
    "NOTA2 = float(input(\"NOTA 2: \"))\n",
    "\n",
    "MEDIA = (NOTA1 + NOTA2) / 2\n",
    "if MEDIA < 7:\n",
    "    print(\"REPROVADO\")\n",
    "elif MEDIA >= 7 and MEDIA < 10:\n",
    "    print(\"APROVADO\")\n",
    "elif MEDIA == 10:\n",
    "    print(\"APROVADO COM DISTINÇÃO\")\n",
    " "
   ]
  }
 ],
 "metadata": {
  "kernelspec": {
   "display_name": "Python 3",
   "language": "python",
   "name": "python3"
  },
  "language_info": {
   "codemirror_mode": {
    "name": "ipython",
    "version": 3
   },
   "file_extension": ".py",
   "mimetype": "text/x-python",
   "name": "python",
   "nbconvert_exporter": "python",
   "pygments_lexer": "ipython3",
   "version": "3.7.4"
  }
 },
 "nbformat": 4,
 "nbformat_minor": 4
}
